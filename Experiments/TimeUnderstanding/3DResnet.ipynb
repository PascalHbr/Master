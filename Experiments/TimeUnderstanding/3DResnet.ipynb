{
 "cells": [
  {
   "cell_type": "markdown",
   "id": "f15f9b72",
   "metadata": {},
   "source": [
    "### Load the model"
   ]
  },
  {
   "cell_type": "code",
   "execution_count": 16,
   "id": "bf3bd305",
   "metadata": {},
   "outputs": [
    {
     "name": "stderr",
     "output_type": "stream",
     "text": [
      "Using cache found in /Users/phuber/.cache/torch/hub/facebookresearch_pytorchvideo_main\n",
      "Using cache found in /Users/phuber/.cache/torch/hub/facebookresearch_pytorchvideo_main\n",
      "Using cache found in /Users/phuber/.cache/torch/hub/facebookresearch_pytorchvideo_main\n",
      "Using cache found in /Users/phuber/.cache/torch/hub/facebookresearch_pytorchvideo_main\n"
     ]
    }
   ],
   "source": [
    "import torch\n",
    "# Choose the `slow_r50` model \n",
    "model = torch.hub.load('facebookresearch/pytorchvideo', 'slowfast_r101', pretrained=True)\n",
    "model_slow = torch.hub.load('facebookresearch/pytorchvideo', 'slow_r50', pretrained=True)\n",
    "model50 = torch.hub.load('facebookresearch/pytorchvideo', 'slowfast_r50', pretrained=True)\n",
    "x3d = torch.hub.load('facebookresearch/pytorchvideo', 'x3d_m', pretrained=True)"
   ]
  },
  {
   "cell_type": "markdown",
   "id": "a31fa6f4",
   "metadata": {},
   "source": [
    "### Import remaining functions"
   ]
  },
  {
   "cell_type": "code",
   "execution_count": 18,
   "id": "d2c82bb0",
   "metadata": {},
   "outputs": [],
   "source": [
    "import json\n",
    "import urllib\n",
    "from pytorchvideo.data.encoded_video import EncodedVideo\n",
    "\n",
    "from torchvision.transforms import Compose, Lambda\n",
    "from torchvision.transforms._transforms_video import (\n",
    "    CenterCropVideo,\n",
    "    NormalizeVideo,\n",
    ")\n",
    "from pytorchvideo.transforms import (\n",
    "    ApplyTransformToKey,\n",
    "    ShortSideScale,\n",
    "    UniformTemporalSubsample\n",
    ")"
   ]
  },
  {
   "cell_type": "markdown",
   "id": "60270310",
   "metadata": {},
   "source": [
    "### Setup device"
   ]
  },
  {
   "cell_type": "code",
   "execution_count": 21,
   "id": "d41ac93a",
   "metadata": {},
   "outputs": [],
   "source": [
    "# Set to GPU or CPU\n",
    "device = \"cpu\"\n",
    "model = model.eval()\n",
    "model = model.to(device)"
   ]
  },
  {
   "cell_type": "markdown",
   "id": "d69f19e2",
   "metadata": {},
   "source": [
    "### Download the id to label mapping for the Kinetics 400 dataset"
   ]
  },
  {
   "cell_type": "code",
   "execution_count": null,
   "id": "39b7cd46",
   "metadata": {},
   "outputs": [],
   "source": [
    "json_url = \"https://dl.fbaipublicfiles.com/pyslowfast/dataset/class_names/kinetics_classnames.json\"\n",
    "json_filename = \"kinetics_classnames.json\"\n",
    "try: urllib.URLopener().retrieve(json_url, json_filename)\n",
    "except: urllib.request.urlretrieve(json_url, json_filename)"
   ]
  },
  {
   "cell_type": "code",
   "execution_count": 81,
   "id": "f470852c",
   "metadata": {},
   "outputs": [],
   "source": [
    "with open(json_filename, \"r\") as f:\n",
    "    kinetics_classnames = json.load(f)\n",
    "\n",
    "# Create an id to label name mapping\n",
    "kinetics_id_to_classname = {}\n",
    "for k, v in kinetics_classnames.items():\n",
    "    kinetics_id_to_classname[v] = str(k).replace('\"', \"\")"
   ]
  },
  {
   "cell_type": "markdown",
   "id": "8e6b5704",
   "metadata": {},
   "source": [
    "### Define input transform"
   ]
  },
  {
   "cell_type": "code",
   "execution_count": 17,
   "id": "eac59250",
   "metadata": {},
   "outputs": [
    {
     "ename": "NameError",
     "evalue": "name 'ApplyTransformToKey' is not defined",
     "output_type": "error",
     "traceback": [
      "\u001b[0;31m---------------------------------------------------------------------------\u001b[0m",
      "\u001b[0;31mNameError\u001b[0m                                 Traceback (most recent call last)",
      "\u001b[0;32m/var/folders/q2/v8n1vs615dzc6zx7jy46tkw80000gn/T/ipykernel_25897/2871561763.py\u001b[0m in \u001b[0;36m<module>\u001b[0;34m\u001b[0m\n\u001b[1;32m      8\u001b[0m \u001b[0;34m\u001b[0m\u001b[0m\n\u001b[1;32m      9\u001b[0m \u001b[0;31m# Note that this transform is specific to the slow_R50 model.\u001b[0m\u001b[0;34m\u001b[0m\u001b[0;34m\u001b[0m\u001b[0m\n\u001b[0;32m---> 10\u001b[0;31m transform =  ApplyTransformToKey(\n\u001b[0m\u001b[1;32m     11\u001b[0m     \u001b[0mkey\u001b[0m\u001b[0;34m=\u001b[0m\u001b[0;34m\"video\"\u001b[0m\u001b[0;34m,\u001b[0m\u001b[0;34m\u001b[0m\u001b[0;34m\u001b[0m\u001b[0m\n\u001b[1;32m     12\u001b[0m     transform=Compose(\n",
      "\u001b[0;31mNameError\u001b[0m: name 'ApplyTransformToKey' is not defined"
     ]
    }
   ],
   "source": [
    "side_size = 256\n",
    "mean = [0.45, 0.45, 0.45]\n",
    "std = [0.225, 0.225, 0.225]\n",
    "crop_size = 256\n",
    "num_frames = 8\n",
    "sampling_rate = 8\n",
    "frames_per_second = 30\n",
    "\n",
    "# Note that this transform is specific to the slow_R50 model.\n",
    "transform =  ApplyTransformToKey(\n",
    "    key=\"video\",\n",
    "    transform=Compose(\n",
    "        [\n",
    "            UniformTemporalSubsample(num_frames),\n",
    "            Lambda(lambda x: x/255.0),\n",
    "            NormalizeVideo(mean, std),\n",
    "            ShortSideScale(\n",
    "                size=side_size\n",
    "            ),\n",
    "            CenterCropVideo(crop_size=(crop_size, crop_size))\n",
    "        ]\n",
    "    ),\n",
    ")\n",
    "\n",
    "# The duration of the input clip is also specific to the model.\n",
    "clip_duration = (num_frames * sampling_rate)/frames_per_second"
   ]
  },
  {
   "cell_type": "markdown",
   "id": "04ee465b",
   "metadata": {},
   "source": [
    "### Run Inference"
   ]
  },
  {
   "cell_type": "code",
   "execution_count": null,
   "id": "2e042ef9",
   "metadata": {},
   "outputs": [],
   "source": [
    "url_link = \"https://dl.fbaipublicfiles.com/pytorchvideo/projects/archery.mp4\"\n",
    "video_path = 'archery.mp4'\n",
    "try: urllib.URLopener().retrieve(url_link, video_path)\n",
    "except: urllib.request.urlretrieve(url_link, video_path)"
   ]
  },
  {
   "cell_type": "markdown",
   "id": "5b2cc2cb",
   "metadata": {},
   "source": [
    "### Load the video and transform it to the input format required by the model."
   ]
  },
  {
   "cell_type": "code",
   "execution_count": 85,
   "id": "2f62e557",
   "metadata": {},
   "outputs": [
    {
     "name": "stdout",
     "output_type": "stream",
     "text": [
      "torch.Size([3, 64, 240, 320])\n",
      "torch.Size([3, 8, 256, 256])\n"
     ]
    }
   ],
   "source": [
    "# Select the duration of the clip to load by specifying the start and end duration\n",
    "# The start_sec should correspond to where the action occurs in the video\n",
    "start_sec = 0\n",
    "end_sec = start_sec + clip_duration\n",
    "\n",
    "# Initialize an EncodedVideo helper class and load the video\n",
    "video = EncodedVideo.from_path(video_path)\n",
    "\n",
    "# Load the desired clip\n",
    "video_data = video.get_clip(start_sec=start_sec, end_sec=end_sec)\n",
    "print(video_data['video'].shape)\n",
    "\n",
    "# Apply a transform to normalize the video input\n",
    "video_data = transform(video_data)\n",
    "print(video_data['video'].shape)\n",
    "\n",
    "# Move the inputs to the desired device\n",
    "inputs = video_data[\"video\"]\n",
    "inputs = inputs.to(device)"
   ]
  },
  {
   "cell_type": "markdown",
   "id": "8f4e0feb",
   "metadata": {},
   "source": [
    "### Get predictions"
   ]
  },
  {
   "cell_type": "code",
   "execution_count": null,
   "id": "c84b8a45",
   "metadata": {
    "scrolled": true
   },
   "outputs": [],
   "source": [
    "# Pass the input clip through the model\n",
    "preds = model(inputs[None, ...])\n",
    "print(inputs.shape)\n",
    "print(preds)\n",
    "print(preds.shape)\n",
    "\n",
    "# Get the predicted classes\n",
    "post_act = torch.nn.Softmax(dim=1)\n",
    "preds = post_act(preds)\n",
    "pred_classes = preds.topk(k=5).indices[0]\n",
    "\n",
    "# Map the predicted classes to the label names\n",
    "pred_class_names = [kinetics_id_to_classname[int(i)] for i in pred_classes]\n",
    "print(\"Top 5 predicted labels: %s\" % \", \".join(pred_class_names))"
   ]
  },
  {
   "cell_type": "code",
   "execution_count": 74,
   "id": "7be41461",
   "metadata": {},
   "outputs": [],
   "source": [
    "from functools import reduce\n",
    "import torch.nn as nn"
   ]
  },
  {
   "cell_type": "code",
   "execution_count": null,
   "id": "8c83e530",
   "metadata": {},
   "outputs": [],
   "source": [
    "from pytorchvideo.models.head import ResNetBasicHead\n",
    "\n",
    "classification_head = ResNetBasicHead(pool=nn.AvgPool3d(kernel_size=(8, 7, 7), stride=(1, 1, 1), padding=(0, 0, 0)),\n",
    "                                     dropout=nn.Dropout(p=0.5, inplace=False),\n",
    "                                     proj=nn.Linear(in_features=2048, out_features=10, bias=True),\n",
    "                                     output_pool=nn.AdaptiveAvgPool3d(output_size=1))"
   ]
  },
  {
   "cell_type": "code",
   "execution_count": 77,
   "id": "e369b71d",
   "metadata": {},
   "outputs": [
    {
     "name": "stdout",
     "output_type": "stream",
     "text": [
      " ResNetBasicHead(\n",
      "  (pool): AvgPool3d(kernel_size=(8, 7, 7), stride=(1, 1, 1), padding=(0, 0, 0))\n",
      "  (dropout): Dropout(p=0.5, inplace=False)\n",
      "  (proj): Linear(in_features=2048, out_features=101, bias=True)\n",
      "  (output_pool): AdaptiveAvgPool3d(output_size=1)\n",
      ")\n",
      "pool AvgPool3d(kernel_size=(8, 7, 7), stride=(1, 1, 1), padding=(0, 0, 0))\n",
      "dropout Dropout(p=0.5, inplace=False)\n",
      "proj Linear(in_features=2048, out_features=101, bias=True)\n",
      "output_pool AdaptiveAvgPool3d(output_size=1)\n"
     ]
    }
   ],
   "source": [
    "#model.blocks._modules['5'] = classification_head\n",
    "import pytorchvideo.models.x3d\n",
    "from pytorchvideo.models.head import ResNetBasicHead\n",
    "\n",
    "num_classes = 101\n",
    "cls_head = ResNetBasicHead(pool=nn.AvgPool3d(kernel_size=(8, 7, 7), stride=(1, 1, 1), padding=(0, 0, 0)),\n",
    "                                       dropout=nn.Dropout(p=0.5, inplace=False),\n",
    "                                       proj=nn.Linear(in_features=2048, out_features=num_classes, bias=True),\n",
    "                                       output_pool=nn.AdaptiveAvgPool3d(output_size=1))\n",
    "for name, layer in cls_head.named_modules():\n",
    "    print(name, layer)"
   ]
  },
  {
   "cell_type": "code",
   "execution_count": 76,
   "id": "3f16af09",
   "metadata": {
    "scrolled": false
   },
   "outputs": [
    {
     "name": "stdout",
     "output_type": "stream",
     "text": [
      " ResNetBasicHead(\n",
      "  (pool): AvgPool3d(kernel_size=(8, 7, 7), stride=(1, 1, 1), padding=(0, 0, 0))\n",
      "  (dropout): Dropout(p=0.5, inplace=False)\n",
      "  (proj): Linear(in_features=2048, out_features=400, bias=True)\n",
      "  (output_pool): AdaptiveAvgPool3d(output_size=1)\n",
      ")\n",
      "pool AvgPool3d(kernel_size=(8, 7, 7), stride=(1, 1, 1), padding=(0, 0, 0))\n",
      "dropout Dropout(p=0.5, inplace=False)\n",
      "proj Linear(in_features=2048, out_features=400, bias=True)\n",
      "output_pool AdaptiveAvgPool3d(output_size=1)\n"
     ]
    }
   ],
   "source": [
    "for name, layer in model_slow.blocks._modules['5'].named_modules():\n",
    "    print(name, layer)"
   ]
  },
  {
   "cell_type": "markdown",
   "id": "c6399e54",
   "metadata": {},
   "source": [
    "## SlowFast"
   ]
  },
  {
   "cell_type": "code",
   "execution_count": 1,
   "id": "30454697",
   "metadata": {},
   "outputs": [
    {
     "name": "stderr",
     "output_type": "stream",
     "text": [
      "Using cache found in /Users/phuber/.cache/torch/hub/facebookresearch_pytorchvideo_main\n"
     ]
    }
   ],
   "source": [
    "import torch\n",
    "# Choose the `slowfast_r50` model \n",
    "model = torch.hub.load('facebookresearch/pytorchvideo', 'slowfast_r50', pretrained=True)"
   ]
  },
  {
   "cell_type": "code",
   "execution_count": 2,
   "id": "15ee492c",
   "metadata": {},
   "outputs": [],
   "source": [
    "from typing import Dict\n",
    "import json\n",
    "import urllib\n",
    "from torchvision.transforms import Compose, Lambda\n",
    "from torchvision.transforms._transforms_video import (\n",
    "    CenterCropVideo,\n",
    "    NormalizeVideo,\n",
    ")\n",
    "from pytorchvideo.data.encoded_video import EncodedVideo\n",
    "from pytorchvideo.transforms import (\n",
    "    ApplyTransformToKey,\n",
    "    ShortSideScale,\n",
    "    UniformTemporalSubsample,\n",
    "    UniformCropVideo\n",
    ") "
   ]
  },
  {
   "cell_type": "code",
   "execution_count": 3,
   "id": "0dc00357",
   "metadata": {},
   "outputs": [],
   "source": [
    "# Set to GPU or CPU\n",
    "device = \"cpu\"\n",
    "model = model.eval()\n",
    "model = model.to(device)"
   ]
  },
  {
   "cell_type": "code",
   "execution_count": 4,
   "id": "deaa6034",
   "metadata": {},
   "outputs": [],
   "source": [
    "json_filename = \"kinetics_classnames.json\"\n",
    "with open(json_filename, \"r\") as f:\n",
    "    kinetics_classnames = json.load(f)\n",
    "\n",
    "# Create an id to label name mapping\n",
    "kinetics_id_to_classname = {}\n",
    "for k, v in kinetics_classnames.items():\n",
    "    kinetics_id_to_classname[v] = str(k).replace('\"', \"\")"
   ]
  },
  {
   "cell_type": "code",
   "execution_count": 19,
   "id": "a3a921d1",
   "metadata": {},
   "outputs": [],
   "source": [
    "side_size = 256\n",
    "mean = [0.45, 0.45, 0.45]\n",
    "std = [0.225, 0.225, 0.225]\n",
    "crop_size = 256\n",
    "num_frames = 32\n",
    "sampling_rate = 2\n",
    "frames_per_second = 30\n",
    "slowfast_alpha = 4\n",
    "num_clips = 10\n",
    "num_crops = 3\n",
    "\n",
    "class PackPathway(torch.nn.Module):\n",
    "    \"\"\"\n",
    "    Transform for converting video frames as a list of tensors. \n",
    "    \"\"\"\n",
    "    def __init__(self):\n",
    "        super().__init__()\n",
    "        \n",
    "    def forward(self, frames: torch.Tensor):\n",
    "        fast_pathway = frames\n",
    "        # Perform temporal sampling from the fast pathway.\n",
    "        slow_pathway = torch.index_select(\n",
    "            frames,\n",
    "            1,\n",
    "            torch.linspace(\n",
    "                0, frames.shape[1] - 1, frames.shape[1] // slowfast_alpha\n",
    "            ).long(),\n",
    "        )\n",
    "        frame_list = [slow_pathway, fast_pathway]\n",
    "        return frame_list\n",
    "\n",
    "transform =  ApplyTransformToKey(\n",
    "    key=\"video\",\n",
    "    transform=Compose(\n",
    "        [\n",
    "            UniformTemporalSubsample(num_frames),\n",
    "            Lambda(lambda x: x/255.0),\n",
    "            NormalizeVideo(mean, std),\n",
    "            ShortSideScale(\n",
    "                size=side_size\n",
    "            ),\n",
    "            CenterCropVideo(crop_size),\n",
    "            PackPathway()\n",
    "        ]\n",
    "    ),\n",
    ")\n",
    "\n",
    "# The duration of the input clip is also specific to the model.\n",
    "#clip_duration = (num_frames * sampling_rate)/frames_per_second\n",
    "clip_duration = (16 * 4) / 30"
   ]
  },
  {
   "cell_type": "code",
   "execution_count": 22,
   "id": "dd08463f",
   "metadata": {},
   "outputs": [
    {
     "name": "stdout",
     "output_type": "stream",
     "text": [
      "torch.Size([3, 64, 240, 320])\n",
      "torch.Size([1, 3, 8, 256, 256])\n",
      "torch.Size([1, 3, 32, 256, 256])\n"
     ]
    }
   ],
   "source": [
    "video_path = 'archery.mp4'\n",
    "# Select the duration of the clip to load by specifying the start and end duration\n",
    "# The start_sec should correspond to where the action occurs in the video\n",
    "start_sec = 0\n",
    "end_sec = start_sec + clip_duration\n",
    "\n",
    "# Initialize an EncodedVideo helper class and load the video\n",
    "video = EncodedVideo.from_path(video_path)\n",
    "\n",
    "# Load the desired clip\n",
    "video_data = video.get_clip(start_sec=start_sec, end_sec=end_sec)\n",
    "print(video_data[\"video\"].shape)\n",
    "\n",
    "# Apply a transform to normalize the video input\n",
    "video_data = transform(video_data)\n",
    "\n",
    "# Move the inputs to the desired device\n",
    "inputs = video_data[\"video\"]\n",
    "inputs = [i.to(device)[None, ...] for i in inputs]\n",
    "print(inputs[0].shape)\n",
    "print(inputs[1].shape)"
   ]
  },
  {
   "cell_type": "code",
   "execution_count": 32,
   "id": "d55bb8ae",
   "metadata": {},
   "outputs": [
    {
     "name": "stdout",
     "output_type": "stream",
     "text": [
      "Top 5 predicted labels: archery, throwing axe, playing paintball, golf driving, riding or walking with horse\n"
     ]
    }
   ],
   "source": [
    "# Pass the input clip through the model\n",
    "preds = model(inputs)\n",
    "\n",
    "# Get the predicted classes\n",
    "post_act = torch.nn.Softmax(dim=1)\n",
    "preds = post_act(preds)\n",
    "pred_classes = preds.topk(k=5).indices[0]\n",
    "\n",
    "# Map the predicted classes to the label names\n",
    "pred_class_names = [kinetics_id_to_classname[int(i)] for i in pred_classes]\n",
    "print(\"Top 5 predicted labels: %s\" % \", \".join(pred_class_names))"
   ]
  },
  {
   "cell_type": "code",
   "execution_count": 20,
   "id": "1f071376",
   "metadata": {},
   "outputs": [
    {
     "name": "stdout",
     "output_type": "stream",
     "text": [
      "torch.Size([3, 300, 240, 320])\n"
     ]
    }
   ],
   "source": [
    "print(video.get_clip(start_sec=start_sec, end_sec=end_sec)[\"video\"].shape)"
   ]
  },
  {
   "cell_type": "code",
   "execution_count": 21,
   "id": "3985dca4",
   "metadata": {},
   "outputs": [
    {
     "data": {
      "text/html": [
       "Finishing last run (ID:1i12w9no) before initializing another..."
      ],
      "text/plain": [
       "<IPython.core.display.HTML object>"
      ]
     },
     "metadata": {},
     "output_type": "display_data"
    },
    {
     "data": {
      "text/html": [
       "<br/>Waiting for W&B process to finish, PID 4935... <strong style=\"color:green\">(success).</strong>"
      ],
      "text/plain": [
       "<IPython.core.display.HTML object>"
      ]
     },
     "metadata": {},
     "output_type": "display_data"
    },
    {
     "data": {
      "application/vnd.jupyter.widget-view+json": {
       "model_id": "",
       "version_major": 2,
       "version_minor": 0
      },
      "text/plain": [
       "VBox(children=(Label(value=' 0.09MB of 0.09MB uploaded (0.00MB deduped)\\r'), FloatProgress(value=1.0, max=1.0)…"
      ]
     },
     "metadata": {},
     "output_type": "display_data"
    },
    {
     "data": {
      "text/html": [
       "<style>\n",
       "    table.wandb td:nth-child(1) { padding: 0 10px; text-align: right }\n",
       "    .wandb-row { display: flex; flex-direction: row; flex-wrap: wrap; width: 100% }\n",
       "    .wandb-col { display: flex; flex-direction: column; flex-basis: 100%; flex: 1; padding: 10px; }\n",
       "    </style>\n",
       "<div class=\"wandb-row\"><div class=\"wandb-col\">\n",
       "</div><div class=\"wandb-col\">\n",
       "</div></div>\n",
       "Synced 6 W&B file(s), 1 media file(s), 0 artifact file(s) and 0 other file(s)\n",
       "<br/>Synced <strong style=\"color:#cdcd00\">restful-field-47</strong>: <a href=\"https://wandb.ai/phuber/Sample%20Videos/runs/1i12w9no\" target=\"_blank\">https://wandb.ai/phuber/Sample%20Videos/runs/1i12w9no</a><br/>\n",
       "Find logs at: <code>./wandb/run-20220226_183738-1i12w9no/logs</code><br/>\n"
      ],
      "text/plain": [
       "<IPython.core.display.HTML object>"
      ]
     },
     "metadata": {},
     "output_type": "display_data"
    },
    {
     "data": {
      "text/html": [
       "Successfully finished last run (ID:1i12w9no). Initializing new run:<br/>"
      ],
      "text/plain": [
       "<IPython.core.display.HTML object>"
      ]
     },
     "metadata": {},
     "output_type": "display_data"
    },
    {
     "data": {
      "text/html": [
       "\n",
       "                    Syncing run <strong><a href=\"https://wandb.ai/phuber/Sample%20Videos/runs/1m112fp2\" target=\"_blank\">radiant-aardvark-48</a></strong> to <a href=\"https://wandb.ai/phuber/Sample%20Videos\" target=\"_blank\">Weights & Biases</a> (<a href=\"https://docs.wandb.com/integrations/jupyter.html\" target=\"_blank\">docs</a>).<br/>\n",
       "\n",
       "                "
      ],
      "text/plain": [
       "<IPython.core.display.HTML object>"
      ]
     },
     "metadata": {},
     "output_type": "display_data"
    },
    {
     "data": {
      "text/html": [
       "<button onClick=\"this.nextSibling.style.display='block';this.style.display='none';\">Display W&B run</button><iframe src=\"https://wandb.ai/phuber/Sample%20Videos/runs/1m112fp2?jupyter=true\" style=\"border:none;width:100%;height:420px;display:none;\"></iframe>"
      ],
      "text/plain": [
       "<wandb.sdk.wandb_run.Run at 0x164a05ac0>"
      ]
     },
     "execution_count": 21,
     "metadata": {},
     "output_type": "execute_result"
    }
   ],
   "source": [
    "wandb.init(project='Sample Videos')"
   ]
  },
  {
   "cell_type": "code",
   "execution_count": 22,
   "id": "d52210bf",
   "metadata": {},
   "outputs": [
    {
     "name": "stderr",
     "output_type": "stream",
     "text": [
      "WARNING:root:Converting video data to uint8\n"
     ]
    }
   ],
   "source": [
    "wandb.log({\"video\": wandb.Video(video.get_clip(start_sec=start_sec, end_sec=end_sec)[\"video\"].permute(1, 0, 2, 3).numpy(), fps=16, format=\"mp4\")})\n"
   ]
  },
  {
   "cell_type": "code",
   "execution_count": 12,
   "id": "950ea7c5",
   "metadata": {},
   "outputs": [
    {
     "name": "stdout",
     "output_type": "stream",
     "text": [
      "2.1333333333333333\n"
     ]
    }
   ],
   "source": [
    "print(end_sec)"
   ]
  },
  {
   "cell_type": "code",
   "execution_count": 9,
   "id": "f04ed27e",
   "metadata": {},
   "outputs": [],
   "source": [
    "from pytorchvideo.models.hub import mvit_base_16x4\n",
    "from pytorchvideo.models.head import ResNetBasicHead, VisionTransformerBasicHead, SequencePool\n",
    "import torch.nn as nn\n",
    "\n",
    "model = mvit_base_16x4(pretrained=False)"
   ]
  },
  {
   "cell_type": "code",
   "execution_count": 5,
   "id": "cad17bfc",
   "metadata": {
    "scrolled": false
   },
   "outputs": [
    {
     "name": "stdout",
     "output_type": "stream",
     "text": [
      " VisionTransformerBasicHead(\n",
      "  (sequence_pool): SequencePool()\n",
      "  (dropout): Dropout(p=0.5, inplace=False)\n",
      "  (proj): Linear(in_features=768, out_features=400, bias=True)\n",
      ")\n",
      "sequence_pool SequencePool()\n",
      "dropout Dropout(p=0.5, inplace=False)\n",
      "proj Linear(in_features=768, out_features=400, bias=True)\n"
     ]
    }
   ],
   "source": [
    "for name, layer in model.head.named_modules():\n",
    "    print(name, layer)"
   ]
  },
  {
   "cell_type": "code",
   "execution_count": 12,
   "id": "eba49429",
   "metadata": {},
   "outputs": [],
   "source": [
    "num_classes = 100\n",
    "cls_head = VisionTransformerBasicHead(sequence_pool=SequencePool(\"cls\"),\n",
    "                                                  dropout=nn.Dropout(p=0.5, inplace=False),\n",
    "                                                  proj=nn.Linear(in_features=768, out_features=num_classes, bias=True))"
   ]
  },
  {
   "cell_type": "code",
   "execution_count": 13,
   "id": "bcad694e",
   "metadata": {},
   "outputs": [],
   "source": [
    "model.head = cls_head"
   ]
  },
  {
   "cell_type": "code",
   "execution_count": 14,
   "id": "33c1498b",
   "metadata": {},
   "outputs": [
    {
     "name": "stdout",
     "output_type": "stream",
     "text": [
      " VisionTransformerBasicHead(\n",
      "  (sequence_pool): SequencePool()\n",
      "  (dropout): Dropout(p=0.5, inplace=False)\n",
      "  (proj): Linear(in_features=768, out_features=100, bias=True)\n",
      ")\n",
      "sequence_pool SequencePool()\n",
      "dropout Dropout(p=0.5, inplace=False)\n",
      "proj Linear(in_features=768, out_features=100, bias=True)\n"
     ]
    }
   ],
   "source": [
    "for name, layer in model.head.named_modules():\n",
    "    print(name, layer)"
   ]
  },
  {
   "cell_type": "code",
   "execution_count": null,
   "id": "0bdd6a07",
   "metadata": {},
   "outputs": [],
   "source": []
  }
 ],
 "metadata": {
  "kernelspec": {
   "display_name": "Python [conda env:tensorflow]",
   "language": "python",
   "name": "conda-env-tensorflow-py"
  },
  "language_info": {
   "codemirror_mode": {
    "name": "ipython",
    "version": 3
   },
   "file_extension": ".py",
   "mimetype": "text/x-python",
   "name": "python",
   "nbconvert_exporter": "python",
   "pygments_lexer": "ipython3",
   "version": "3.9.9"
  }
 },
 "nbformat": 4,
 "nbformat_minor": 5
}
